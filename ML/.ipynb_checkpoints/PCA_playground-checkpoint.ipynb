{
 "cells": [
  {
   "cell_type": "code",
   "execution_count": 101,
   "id": "c134a8ab",
   "metadata": {},
   "outputs": [],
   "source": [
    "import numpy as np\n",
    "import matplotlib.pyplot as plt\n",
    "from sklearn.decomposition import PCA"
   ]
  },
  {
   "cell_type": "code",
   "execution_count": 102,
   "id": "8c99906f",
   "metadata": {},
   "outputs": [],
   "source": [
    "# return noisy linear model\n",
    "def f(x, a, b, sigma):\n",
    "    return a*x + b + np.random.normal(0, sigma, len(x))"
   ]
  },
  {
   "cell_type": "code",
   "execution_count": 103,
   "id": "14ee0a94",
   "metadata": {},
   "outputs": [],
   "source": [
    "x = np.arange(100)\n",
    "y = f(x, 1, 10, 25)\n",
    "data = np.array([x, y]).T"
   ]
  },
  {
   "cell_type": "code",
   "execution_count": 104,
   "id": "473248ab",
   "metadata": {},
   "outputs": [
    {
     "name": "stdout",
     "output_type": "stream",
     "text": [
      "eigenvectors:  [[-0.57488241 -0.81823604]\n",
      " [ 0.81823604 -0.57488241]]\n",
      "eigenvalues:  [1961.97402079  288.65024161]\n",
      "eigenvectors length: 1.0, 1.0\n",
      "eigenvectors angle: 90.0\n"
     ]
    }
   ],
   "source": [
    "pca = PCA(n_components=2)\n",
    "pca.fit(data)\n",
    "\n",
    "print(\"eigenvectors: \", pca.components_)\n",
    "print(\"eigenvalues: \", pca.explained_variance_)\n",
    "\n",
    "print(f'eigenvectors length: {np.linalg.norm(pca.components_[0])}, {np.linalg.norm(pca.components_[1])}')\n",
    "print(f'eigenvectors angle: {np.rad2deg(np.arccos(np.dot(pca.components_[0], pca.components_[1])))}')"
   ]
  },
  {
   "cell_type": "code",
   "execution_count": 106,
   "id": "ac9d05ca",
   "metadata": {},
   "outputs": [
    {
     "data": {
      "text/plain": [
       "(-25.0, 150.0)"
      ]
     },
     "execution_count": 106,
     "metadata": {},
     "output_type": "execute_result"
    },
    {
     "data": {
      "image/png": "[encoded data removed]",
      "text/plain": [
       "<Figure size 432x288 with 1 Axes>"
      ]
     },
     "metadata": {
      "needs_background": "light"
     },
     "output_type": "display_data"
    }
   ],
   "source": [
    "scaling = 50\n",
    "e1_x = pca.components_[0, 0]*pca.explained_variance_[0]\n",
    "e1_y = pca.components_[0, 1]*pca.explained_variance_[0]\n",
    "e2_x = pca.components_[1, 0]*pca.explained_variance_[1]\n",
    "e2_y = pca.components_[1, 1]*pca.explained_variance_[1]\n",
    "\n",
    "fig = plt.figure()\n",
    "ax = fig.add_subplot(1, 1, 1)\n",
    "ax.scatter(x, y, c=\"red\")\n",
    "ax.arrow(np.mean(x), np.mean(y), e1_x/pca.explained_variance_[0]*scaling, e1_y/pca.explained_variance_[0]*scaling, head_width=5, head_length=5, fc='k', ec='k')\n",
    "ax.arrow(np.mean(x), np.mean(y), e2_x/pca.explained_variance_[0]*scaling, e2_y/pca.explained_variance_[0]*scaling, head_width=5, head_length=5, fc='k', ec='k')\n",
    "\n",
    "ax.set_xlim(-25, 150)\n",
    "ax.set_ylim(-25, 150)"
   ]
  },
  {
   "cell_type": "code",
   "execution_count": 107,
   "id": "eeaa440c",
   "metadata": {},
   "outputs": [],
   "source": [
    "projection = pca.transform(data)"
   ]
  },
  {
   "cell_type": "code",
   "execution_count": 108,
   "id": "59b2551d",
   "metadata": {},
   "outputs": [
    {
     "data": {
      "text/plain": [
       "<matplotlib.patches.FancyArrow at 0x2688162b490>"
      ]
     },
     "execution_count": 108,
     "metadata": {},
     "output_type": "execute_result"
    },
    {
     "data": {
      "image/png": "[encoded data removed]",
      "text/plain": [
       "<Figure size 432x288 with 1 Axes>"
      ]
     },
     "metadata": {
      "needs_background": "light"
     },
     "output_type": "display_data"
    }
   ],
   "source": [
    "fig = plt.figure()\n",
    "ax = fig.add_subplot(1, 1, 1)\n",
    "ax.scatter(pca.components_[0, 0]*projection[:, 0]+np.mean(x), pca.components_[0, 1]*projection[:, 0] + np.mean(y), c=\"red\")\n",
    "ax.arrow(np.mean(x), np.mean(y), e1_x/pca.explained_variance_[0]*scaling, e1_y/pca.explained_variance_[0]*scaling, head_width=5, head_length=5, fc='k', ec='k')\n",
    "ax.arrow(np.mean(x), np.mean(y), e2_x/pca.explained_variance_[0]*scaling, e2_y/pca.explained_variance_[0]*scaling, head_width=5, head_length=5, fc='k', ec='k')"
   ]
  },
  {
   "cell_type": "code",
   "execution_count": null,
   "id": "b60e7ac9",
   "metadata": {},
   "outputs": [],
   "source": []
  }
 ],
 "metadata": {
  "kernelspec": {
   "display_name": "Python 3 (ipykernel)",
   "language": "python",
   "name": "python3"
  },
  "language_info": {
   "codemirror_mode": {
    "name": "ipython",
    "version": 3
   },
   "file_extension": ".py",
   "mimetype": "text/x-python",
   "name": "python",
   "nbconvert_exporter": "python",
   "pygments_lexer": "ipython3",
   "version": "3.10.4"
  }
 },
 "nbformat": 4,
 "nbformat_minor": 5
}
